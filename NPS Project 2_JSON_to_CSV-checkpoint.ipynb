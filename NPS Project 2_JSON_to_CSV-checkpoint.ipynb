{
 "cells": [
  {
   "cell_type": "code",
   "execution_count": 10,
   "metadata": {},
   "outputs": [
    {
     "name": "stdout",
     "output_type": "stream",
     "text": [
      "CSV file successfully created: activities.csv\n"
     ]
    }
   ],
   "source": [
    "import json\n",
    "import csv\n",
    "\n",
    "# -- Convert activities.json to csv --\n",
    "try:\n",
    "    # Load JSON data from a file\n",
    "    with open('activities.json', 'r') as json_file:\n",
    "        json_data = json.load(json_file)\n",
    "\n",
    "    # Check if 'data' key exists and is a list\n",
    "    if 'data' in json_data and isinstance(json_data['data'], list):\n",
    "        # Extract the list of items from the 'data' key\n",
    "        items = json_data['data']\n",
    "\n",
    "        if items:\n",
    "            # Extract keys (column headers) from the first item (assuming items is not empty)\n",
    "            keys = items[0].keys()\n",
    "\n",
    "            # Specify CSV file path\n",
    "            csv_file = 'activities.csv'\n",
    "\n",
    "            # Write JSON data items to CSV file\n",
    "            with open(csv_file, 'w', newline='') as file:\n",
    "                writer = csv.DictWriter(file, fieldnames=keys)\n",
    "                writer.writeheader()\n",
    "                writer.writerows(items)\n",
    "\n",
    "            print(f'CSV file successfully created: {csv_file}')\n",
    "        else:\n",
    "            print('Error: No data items found in JSON file.')\n",
    "\n",
    "    else:\n",
    "        print('Error: Invalid JSON format or missing \"data\" key.')\n",
    "\n",
    "except FileNotFoundError:\n",
    "    print('Error: Input JSON file not found.')\n",
    "\n",
    "except json.JSONDecodeError as e:\n",
    "    print(f'Error: Failed to decode JSON data. {e}')\n"
   ]
  },
  {
   "cell_type": "code",
   "execution_count": 18,
   "metadata": {},
   "outputs": [
    {
     "name": "stdout",
     "output_type": "stream",
     "text": [
      "CSV file successfully created: activities_parks.csv\n"
     ]
    }
   ],
   "source": [
    "# -- Convert activities_parks.json to csv --\n",
    "try:\n",
    "    # Load JSON data from a file using UTF-8 encoding\n",
    "    with open('activities_parks.json', 'r', encoding='utf-8') as json_file:\n",
    "        json_data = json.load(json_file)\n",
    "\n",
    "    # Check if 'data' key exists and is a list\n",
    "    if 'data' in json_data and isinstance(json_data['data'], list):\n",
    "        # Extract the list of items from the 'data' key\n",
    "        activities = json_data['data']\n",
    "\n",
    "        if activities:\n",
    "            # Specify CSV file path\n",
    "            csv_file = 'activities_parks.csv'\n",
    "\n",
    "            # Set to collect all unique park attribute names\n",
    "            park_attributes = set()\n",
    "\n",
    "            # Collect all unique park attribute names across activities\n",
    "            for activity in activities:\n",
    "                for park in activity.get('parks', []):\n",
    "                    park_attributes.update(park.keys())\n",
    "\n",
    "            # Include activity_id and activity_name in fieldnames\n",
    "            fieldnames = ['activity_id', 'activity_name'] + sorted(park_attributes)\n",
    "\n",
    "            # Write JSON data items to CSV file with updated fieldnames\n",
    "            with open(csv_file, 'w', newline='', encoding='utf-8') as file:\n",
    "                writer = csv.DictWriter(file, fieldnames=fieldnames)\n",
    "                writer.writeheader()\n",
    "\n",
    "                # Iterate over each activity item\n",
    "                for activity in activities:\n",
    "                    activity_id = activity['id']\n",
    "                    activity_name = activity['name']\n",
    "\n",
    "                    # Iterate over each park within the activity\n",
    "                    for park in activity.get('parks', []):\n",
    "                        # Create a new park_info dictionary with activity-related and park-specific attributes\n",
    "                        park_info = {\n",
    "                            'activity_id': activity_id,\n",
    "                            'activity_name': activity_name,\n",
    "                            **park  # Unpack park dictionary to include all park attributes\n",
    "                        }\n",
    "\n",
    "                        # Filter park_info to include only keys present in fieldnames\n",
    "                        filtered_info = {key: park_info[key] for key in fieldnames}\n",
    "\n",
    "                        # Write filtered park_info to CSV row\n",
    "                        writer.writerow(filtered_info)\n",
    "\n",
    "            print(f'CSV file successfully created: {csv_file}')\n",
    "        else:\n",
    "            print('Error: No activity data found in JSON file.')\n",
    "\n",
    "    else:\n",
    "        print('Error: Invalid JSON format or missing \"data\" key.')\n",
    "\n",
    "except FileNotFoundError:\n",
    "    print('Error: Input JSON file not found.')\n",
    "\n",
    "except json.JSONDecodeError as e:\n",
    "    print(f'Error: Failed to decode JSON data. {e}')\n",
    "\n",
    "    "
   ]
  },
  {
   "cell_type": "code",
   "execution_count": 19,
   "metadata": {},
   "outputs": [
    {
     "name": "stdout",
     "output_type": "stream",
     "text": [
      "CSV file successfully created: feespasses.csv\n"
     ]
    }
   ],
   "source": [
    "# -- Convert fesspasses.json to csv --\n",
    "try:\n",
    "    # Load JSON data from a file using UTF-8 encoding\n",
    "    with open('feespasses.json', 'r', encoding='utf-8') as json_file:\n",
    "        json_data = json.load(json_file)\n",
    "\n",
    "    # Check if 'data' key exists and is a list\n",
    "    if 'data' in json_data and isinstance(json_data['data'], list):\n",
    "        # Extract the list of items from the 'data' key\n",
    "        parks = json_data['data']\n",
    "\n",
    "        if parks:\n",
    "            # Specify CSV file path\n",
    "            csv_file = 'feespasses.csv'\n",
    "\n",
    "            # Set to collect all unique park attribute names\n",
    "            park_attributes = set()\n",
    "\n",
    "            # Collect all unique park attribute names across parks\n",
    "            for park in parks:\n",
    "                park_attributes.update(park.keys())\n",
    "\n",
    "            # Include parkCode in fieldnames\n",
    "            fieldnames = ['parkCode'] + sorted(park_attributes)\n",
    "\n",
    "            # Write JSON data items to CSV file with updated fieldnames\n",
    "            with open(csv_file, 'w', newline='', encoding='utf-8') as file:\n",
    "                writer = csv.DictWriter(file, fieldnames=fieldnames)\n",
    "                writer.writeheader()\n",
    "\n",
    "                # Iterate over each park item\n",
    "                for park in parks:\n",
    "                    # Create a new park_info dictionary with park-specific attributes\n",
    "                    park_info = {\n",
    "                        'parkCode': park['parkCode'],\n",
    "                        **park  # Unpack park dictionary to include all park attributes\n",
    "                    }\n",
    "\n",
    "                    # Filter park_info to include only keys that are present in fieldnames\n",
    "                    filtered_info = {key: park_info[key] for key in fieldnames}\n",
    "\n",
    "                    # Write filtered park_info to CSV row\n",
    "                    writer.writerow(filtered_info)\n",
    "\n",
    "            print(f'CSV file successfully created: {csv_file}')\n",
    "        else:\n",
    "            print('Error: No park data found in JSON file.')\n",
    "\n",
    "    else:\n",
    "        print('Error: Invalid JSON format or missing \"data\" key.')\n",
    "\n",
    "except FileNotFoundError:\n",
    "    print('Error: Input JSON file not found.')\n",
    "\n",
    "except json.JSONDecodeError as e:\n",
    "    print(f'Error: Failed to decode JSON data. {e}')\n",
    "\n",
    "    "
   ]
  },
  {
   "cell_type": "code",
   "execution_count": 24,
   "metadata": {},
   "outputs": [
    {
     "name": "stdout",
     "output_type": "stream",
     "text": [
      "CSV file successfully created: parks.csv\n"
     ]
    }
   ],
   "source": [
    "# -- Convert parks.json to csv --\n",
    "# Load JSON data from file with specified encoding\n",
    "with open('parks.json', 'r', encoding='utf-8') as json_file:\n",
    "    data = json.load(json_file)\n",
    "\n",
    "# Define the desired keys to extract from each park entry\n",
    "keys_to_extract = ['id', 'fullName', 'parkCode', 'description', 'latitude', 'longitude', 'states', \n",
    "                   'activities', 'topics', 'contacts', 'entranceFees', 'entrancePasses', 'fees', \n",
    "                   'directionsInfo', 'directionsUrl', 'operatingHours', 'addresses', 'images', \n",
    "                   'weatherInfo', 'name', 'designation', 'relevanceScore']\n",
    "\n",
    "# Open a CSV file for writing\n",
    "csv_file = 'parks.csv'\n",
    "with open(csv_file, 'w', newline='', encoding='utf-8') as file:\n",
    "    writer = csv.DictWriter(file, fieldnames=keys_to_extract)\n",
    "    writer.writeheader()\n",
    "\n",
    "    # Loop through each park entry in the data\n",
    "    for park_entry in data['data']:\n",
    "        # Extract values for each desired key\n",
    "        row_data = {key: park_entry[key] for key in keys_to_extract if key in park_entry}\n",
    "        \n",
    "        # Write the extracted data to the CSV file\n",
    "        writer.writerow(row_data)\n",
    "\n",
    "print(f'CSV file successfully created: {csv_file}')\n"
   ]
  },
  {
   "cell_type": "code",
   "execution_count": 25,
   "metadata": {},
   "outputs": [
    {
     "name": "stdout",
     "output_type": "stream",
     "text": [
      "CSV file successfully created: alerts.csv\n"
     ]
    }
   ],
   "source": [
    "# -- Convert alerts.json to csv --\n",
    "# Load JSON data from file with specified encoding\n",
    "with open('alerts.json', 'r', encoding='utf-8') as json_file:\n",
    "    data = json.load(json_file)\n",
    "\n",
    "# Define the desired keys to extract from each event entry\n",
    "keys_to_extract = ['id', 'url', 'title', 'parkCode', 'description', 'category', 'lastIndexedDate']\n",
    "\n",
    "# Open a CSV file for writing\n",
    "csv_file = 'alerts.csv'\n",
    "with open(csv_file, 'w', newline='', encoding='utf-8') as file:\n",
    "    writer = csv.DictWriter(file, fieldnames=keys_to_extract)\n",
    "    writer.writeheader()\n",
    "\n",
    "    # Loop through each event entry in the data\n",
    "    for event_entry in data['data']:\n",
    "        # Extract values for each desired key\n",
    "        row_data = {key: event_entry[key] for key in keys_to_extract if key in event_entry}\n",
    "        \n",
    "        # Write the extracted data to the CSV file\n",
    "        writer.writerow(row_data)\n",
    "\n",
    "print(f'CSV file successfully created: {csv_file}')\n"
   ]
  }
 ],
 "metadata": {
  "colab": {
   "provenance": []
  },
  "kernelspec": {
   "display_name": "Python 3 (ipykernel)",
   "language": "python",
   "name": "python3"
  },
  "language_info": {
   "codemirror_mode": {
    "name": "ipython",
    "version": 3
   },
   "file_extension": ".py",
   "mimetype": "text/x-python",
   "name": "python",
   "nbconvert_exporter": "python",
   "pygments_lexer": "ipython3",
   "version": "3.11.4"
  }
 },
 "nbformat": 4,
 "nbformat_minor": 1
}
